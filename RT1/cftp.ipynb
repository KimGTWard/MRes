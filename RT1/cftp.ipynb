{
 "cells": [
  {
   "cell_type": "markdown",
   "metadata": {},
   "source": [
    "# Coupling From The Past\n",
    "\n",
    "Our state space will consist of the integers {0, 1, 2, 3, 4} and our transition kernel P as \"flip an unbiased coin: if heads, add one (if possible: 4 has an \"upper clip\" and stays at 4) and if tails, subtract one (if possible: 0 has a \"lower clip\" and stays at 0)\". This chain is ergodic, and the invariant distribution for this chain is the uniform distribution."
   ]
  },
  {
   "cell_type": "code",
   "execution_count": 162,
   "metadata": {},
   "outputs": [],
   "source": [
    "import numpy as np\n",
    "import matplotlib.pyplot as plt\n",
    "%matplotlib inline\n",
    "S = [0, 1, 2, 3, 4]\n",
    "\n",
    "P = np.array([(0.5, 0.5, 0.0, 0.0, 0.0),\n",
    "              (0.5, 0.0, 0.5, 0.0, 0.0),\n",
    "              (0.0, 0.5, 0.0, 0.5, 0.0),\n",
    "              (0.0, 0.0, 0.5, 0.0, 0.5),\n",
    "              (0.0, 0.0, 0.0, 0.5, 0.5)])\n",
    "\n",
    "pi = np.array([0.2, 0.2, 0.2, 0.2, 0.2])\n",
    "\n",
    "#Check we have the correct invariant distribution\n",
    "assert (pi == np.dot(P, pi)).all()\n"
   ]
  },
  {
   "cell_type": "markdown",
   "metadata": {},
   "source": [
    "## The Algorithm\n",
    "\n",
    "We will start with the basic (non-monotone) version of the algorithm, where the random maps are independent."
   ]
  },
  {
   "cell_type": "code",
   "execution_count": 163,
   "metadata": {},
   "outputs": [
    {
     "data": {
      "image/png": "[encoded data removed]",
      "text/plain": [
       "<Figure size 432x288 with 1 Axes>"
      ]
     },
     "metadata": {
      "needs_background": "light"
     },
     "output_type": "display_data"
    }
   ],
   "source": [
    "def random_map(seed=None):\n",
    "    #given a possible starting seed, returns an array mapping elements of S to itself\n",
    "    \n",
    "    if seed is not None:\n",
    "        np.random.seed(seed)\n",
    "    \n",
    "    random_numbers = np.random.randint(2, size=5) #five random numbers each 0 or 1 with probability 1/2, independent\n",
    "    unclipped_map = 2 * random_numbers - 1 + np.array([0, 1, 2, 3, 4])\n",
    "    clipped_map = np.clip(unclipped_map, 0, 4)\n",
    "    \n",
    "    return clipped_map\n",
    "\n",
    "def compose_map(f_1, f_2):\n",
    "    #returns the map g corresponding to f2(f1(x)) for x in S\n",
    "    \n",
    "    g = np.zeros(5, dtype=np.int)\n",
    "    \n",
    "    for i in range(5):\n",
    "        g[i] = f_2[f_1[i]]\n",
    "        \n",
    "    return g\n",
    "\n",
    "def cftp_basic(seed=None, type='basic'):\n",
    "    \n",
    "    if seed is not None:\n",
    "        np.random.seed(seed)\n",
    "        \n",
    "    old_map = np.array([0, 1, 2, 3, 4]) #identity map\n",
    "    k = 0\n",
    "    \n",
    "    if type=='mt':\n",
    "        while True:\n",
    "            k = k+1\n",
    "            new_map = mt_random_map()\n",
    "            old_map = compose_map(new_map, old_map)\n",
    "\n",
    "            #check if map is now constant, if so output converged value\n",
    "            if np.all((old_map - old_map[0])==0):\n",
    "\n",
    "                return old_map[0]\n",
    "        \n",
    "\n",
    "    while True:\n",
    "        k = k+1\n",
    "        new_map = random_map()\n",
    "        old_map = compose_map(new_map, old_map)\n",
    "        \n",
    "        #check if map is now constant, if so output converged value\n",
    "        if np.all((old_map - old_map[0])==0):\n",
    "\n",
    "            return old_map[0]\n",
    "\n",
    "N=1000\n",
    "results = []\n",
    "for i in range(N):\n",
    "    results.append(cftp_basic())\n",
    "\n",
    "plt.hist(results, bins=9, range=(-0.25, 4.25))\n",
    "plt.hlines(y = N/5 + np.array([1, -1])*np.sqrt(N*4/25)*1.96 , xmin=-0.5, xmax=4.5, linestyles='dashed') #95% confidence intervals with a Normal approximation\n",
    "plt.title(\"Basic CFTP set up correctly\")\n",
    "plt.xlabel(\"Returned value\")\n",
    "plt.ylabel(\"Frequency\")\n",
    "plt.show()\n"
   ]
  },
  {
   "cell_type": "markdown",
   "metadata": {},
   "source": [
    "## Coupling to the Future\n",
    "\n",
    "What happens if we run the algorithm into the future instead? (Swapping the order of composition of maps)."
   ]
  },
  {
   "cell_type": "code",
   "execution_count": 164,
   "metadata": {},
   "outputs": [
    {
     "data": {
      "image/png": "[encoded data removed]",
      "text/plain": [
       "<Figure size 432x288 with 1 Axes>"
      ]
     },
     "metadata": {
      "needs_background": "light"
     },
     "output_type": "display_data"
    }
   ],
   "source": [
    "def cftp_future(seed=None, type='basic'):\n",
    "    \n",
    "    if seed is not None:\n",
    "        np.random.seed(seed)\n",
    "    \n",
    "    old_map = np.array([0, 1, 2, 3, 4]) #identity map\n",
    "    k = 0\n",
    "    \n",
    "    if type=='mt':\n",
    "        while True:\n",
    "            k = k+1\n",
    "            new_map = mt_random_map()\n",
    "            old_map = compose_map(old_map, new_map)#swapped composition order\n",
    "\n",
    "            #check if map is now constant, if so output converged value\n",
    "            if np.all((old_map - old_map[0])==0):\n",
    "\n",
    "                return old_map[0]\n",
    "    \n",
    "    while True:\n",
    "        k = k+1\n",
    "        new_map = random_map()\n",
    "        old_map = compose_map(old_map, new_map)#swapped composition order\n",
    "        \n",
    "        #check if map is now constant, if so output converged value\n",
    "        if np.all((old_map - old_map[0])==0):\n",
    "\n",
    "            return old_map[0]\n",
    "        \n",
    "N = 1000\n",
    "results = []\n",
    "for i in range(N):\n",
    "    results.append(cftp_future())\n",
    "    \n",
    "plt.hist(results, bins=9, range=(-0.25, 4.25))\n",
    "plt.hlines(y = N/5 + np.array([1, -1])*np.sqrt(N*4/25)*1.96 , xmin=-0.5, xmax=4.5, linestyles='dashed') #95% confidence intervals with a Normal approximation\n",
    "plt.title(\"Coupling to the Future (with independent random maps)\")\n",
    "plt.xlabel(\"Returned value\")\n",
    "plt.ylabel(\"Frequency\")\n",
    "plt.show()"
   ]
  },
  {
   "cell_type": "markdown",
   "metadata": {},
   "source": [
    "Looks fine, right? This is an artefact of our example. If we instead use the monotone version of random map (instead of drawing 5 random numbers, draw 1 and apply it to all 5 values) we get something very different:"
   ]
  },
  {
   "cell_type": "code",
   "execution_count": 165,
   "metadata": {},
   "outputs": [
    {
     "data": {
      "image/png": "[encoded data removed]",
      "text/plain": [
       "<Figure size 432x288 with 1 Axes>"
      ]
     },
     "metadata": {
      "needs_background": "light"
     },
     "output_type": "display_data"
    }
   ],
   "source": [
    "def mt_random_map(seed=None):\n",
    "    #given a possible starting seed, returns an array mapping elements of S to itself\n",
    "    \n",
    "    if seed is not None:\n",
    "        np.random.seed(seed)\n",
    "    \n",
    "    random_numbers = np.full(5, np.random.randint(2)) #five random numbers each 0 or 1 with probability 1/2, all the same\n",
    "    unclipped_map = 2 * random_numbers - 1 + np.array([0, 1, 2, 3, 4])\n",
    "    clipped_map = np.clip(unclipped_map, 0, 4)\n",
    "    \n",
    "    return clipped_map\n",
    "\n",
    "N = 1000\n",
    "results = []\n",
    "for i in range(N):\n",
    "    results.append(cftp_future(type='mt'))\n",
    "    \n",
    "plt.hist(results, bins=9, range=(-0.25, 4.25))\n",
    "plt.hlines(y = N/5 + np.array([1, -1])*np.sqrt(N*4/25)*1.96 , xmin=-0.5, xmax=4.5, linestyles='dashed') #95% confidence intervals with a Normal approximation\n",
    "plt.title(\"Coupling 'Into The Future': Results\")\n",
    "plt.xlabel(\"Returned value\")\n",
    "plt.ylabel(\"Frequency\")\n",
    "plt.show()"
   ]
  },
  {
   "cell_type": "markdown",
   "metadata": {},
   "source": [
    "Since the monotone version of the map can only coalesce at a clip when run into the future, which can only happen at 0 or 4, it clearly cannot approximate pi at all. Compare with the from the past algorithm which is unaffected:"
   ]
  },
  {
   "cell_type": "code",
   "execution_count": 166,
   "metadata": {},
   "outputs": [
    {
     "data": {
      "image/png": "[encoded data removed]",
      "text/plain": [
       "<Figure size 432x288 with 1 Axes>"
      ]
     },
     "metadata": {
      "needs_background": "light"
     },
     "output_type": "display_data"
    }
   ],
   "source": [
    "N = 1000\n",
    "results = []\n",
    "for i in range(N):\n",
    "    results.append(cftp_basic(type='mt'))\n",
    "    \n",
    "plt.hist(results, bins=9, range=(-0.25, 4.25))\n",
    "plt.hlines(y = N/5 + np.array([1, -1])*np.sqrt(N*4/25)*1.96 , xmin=-0.5, xmax=4.5, linestyles='dashed') #95% confidence intervals with a Normal approximation\n",
    "plt.title(\"Coupling From The Past: Results\")\n",
    "plt.xlabel(\"Returned value\")\n",
    "plt.ylabel(\"Frequency\")\n",
    "plt.show()"
   ]
  },
  {
   "cell_type": "markdown",
   "metadata": {},
   "source": [
    "## Monotone CFTP\n",
    "\n",
    "Say that instead of size n=5, our state space had n very large, so large that computing and storing the n values in each random map at each algortihmic step is prohibitively expensive. We can use the monotone version of the algorithm, which only stores 2 values (though this means it has to restart further and further into the past rather than use backwards composition). Here we have to start being very careful about our seed choices for random numbers."
   ]
  },
  {
   "cell_type": "code",
   "execution_count": 167,
   "metadata": {},
   "outputs": [
    {
     "name": "stdout",
     "output_type": "stream",
     "text": [
      "[5 7 2 3 9]\n",
      "[5 7 2 3 9 9 2 9 3 6]\n"
     ]
    }
   ],
   "source": [
    "#Numpy's random functions are well-behaved with respect to seed setting.\n",
    "np.random.seed(8902)\n",
    "\n",
    "print(np.random.randint(10, size=5))\n",
    "\n",
    "np.random.seed(8902)\n",
    "\n",
    "print(np.random.randint(10, size=10))"
   ]
  },
  {
   "cell_type": "code",
   "execution_count": 168,
   "metadata": {},
   "outputs": [],
   "source": [
    "def monotone_cftp_trial(T=1, seed=None):\n",
    "    '''Runs the algorithm from time -T to time 0 and reports if converged/what to'''\n",
    "    \n",
    "    if seed is not None:\n",
    "        np.random.seed(seed)\n",
    "    \n",
    "    random_numbers = 2 * np.random.randint(2, size=T) - 1 #these numbers must be used \"in reverse\"\n",
    "    \n",
    "    one_hat = 4\n",
    "    zero_hat = 0\n",
    "    \n",
    "    for time in range(T, 0, -1):\n",
    "        U = random_numbers[time-1]\n",
    "        one_hat = min(max(one_hat+U, 0), 4)\n",
    "        zero_hat = min(max(zero_hat+U, 0), 4)\n",
    "        \n",
    "    converged=(one_hat==zero_hat)\n",
    "    \n",
    "    return converged, one_hat, zero_hat\n",
    "    \n",
    "def monotone_cftp(seed=None):\n",
    "    '''Runs the algorithm at successively more negative times with the same starting seed'''\n",
    "    time = 1\n",
    "    \n",
    "    while True:\n",
    "        trial = monotone_cftp_trial(T=time, seed=seed)\n",
    "        \n",
    "        if trial[0]:#convergence has occurred\n",
    "            return trial[1], time\n",
    "        time += 1\n",
    "\n"
   ]
  },
  {
   "cell_type": "markdown",
   "metadata": {},
   "source": [
    "## Monotone CFTP Results\n",
    "\n",
    "The version of the algorithm we are using involves increasing the trial time by 1 at each step, rather than doubling it as reccommended in the literature. This is because we want to highlight the effect of the bias created when the algorithm is used incorrectly later in this notebook (bias is reduced when running the Markov chain for extra time). Some observations:\n",
    "\n",
    "* The algorithm is still giving draws from pi. (See the histogram)\n",
    "* Although the mean coalescence time is usually quite small, there are lots of outliers on the top end (See the boxplots), indicating a heavy upper tail.\n",
    "* The coalescence time is not independent of the draw result - for example draws of 2 require two upper clips and two lower clips, which takes more time than four upper clips and zero lower clips.\n",
    "* This shows that the algorithm is prone to interruptability bias: if you interrupt the algorithm after (in this case) 10 steps without convergence, your results will be biased toward the edges."
   ]
  },
  {
   "cell_type": "code",
   "execution_count": 169,
   "metadata": {},
   "outputs": [
    {
     "data": {
      "image/png": "[encoded data removed]",
      "text/plain": [
       "<Figure size 432x288 with 1 Axes>"
      ]
     },
     "metadata": {
      "needs_background": "light"
     },
     "output_type": "display_data"
    }
   ],
   "source": [
    "import pandas as pd\n",
    "N = 10000\n",
    "df = pd.DataFrame({'times':[], 'draws':[]})\n",
    "results = []\n",
    "for i in range(N):\n",
    "    draw, time = monotone_cftp(i)\n",
    "    df.loc[i] = [time, draw]\n",
    "    results.append(draw)\n",
    "\n",
    "df.boxplot(column='times', by='draws')\n",
    "plt.title('Boxplots of CFTP coalescence times')\n",
    "plt.xlabel(\"Returned value\")\n",
    "plt.ylabel(\"Coalescence time\")\n",
    "plt.suptitle('')\n",
    "plt.show()"
   ]
  },
  {
   "cell_type": "code",
   "execution_count": 170,
   "metadata": {},
   "outputs": [
    {
     "data": {
      "image/png": "[encoded data removed]",
      "text/plain": [
       "<Figure size 432x288 with 1 Axes>"
      ]
     },
     "metadata": {
      "needs_background": "light"
     },
     "output_type": "display_data"
    }
   ],
   "source": [
    "\n",
    "plt.hist(results, bins=9, range=(-0.25, 4.25))\n",
    "plt.hlines(y = N/5 + np.array([1, -1])*np.sqrt(N*4/25)*1.96 , xmin=-0.5, xmax=4.5, linestyles='dashed') #95% confidence intervals with a Normal approximation\n",
    "plt.title(\"Monotone CFTP set up correctly\")\n",
    "plt.show()"
   ]
  },
  {
   "cell_type": "markdown",
   "metadata": {},
   "source": [
    "## Why choosing seeds is important\n",
    "\n",
    "If you fail to use the same random seed for each trial, you are essentially throwing away results from previous trials rather than extending them. This introduces a bias in the same way as interruptability bias, where results in which the algorithm has a short running time are favoured over those with a long running time:"
   ]
  },
  {
   "cell_type": "code",
   "execution_count": 171,
   "metadata": {},
   "outputs": [
    {
     "data": {
      "image/png": "[encoded data removed]",
      "text/plain": [
       "<Figure size 432x288 with 1 Axes>"
      ]
     },
     "metadata": {
      "needs_background": "light"
     },
     "output_type": "display_data"
    }
   ],
   "source": [
    "import pandas as pd\n",
    "N = 1000\n",
    "df = pd.DataFrame({'times':[], 'draws':[]})\n",
    "results = []\n",
    "for i in range(N):\n",
    "    draw, time = monotone_cftp()\n",
    "    df.loc[i] = [time, draw]\n",
    "    results.append(draw)\n",
    "\n",
    "plt.hist(results, bins=9, range=(-0.25, 4.25))\n",
    "plt.hlines(y = N/5 + np.array([1, -1])*np.sqrt(N*4/25)*1.96, xmin=-0.5, xmax=4.5, linestyles='dashed') #95% confidence intervals with a Normal approximation\n",
    "plt.title(\"Effects of Random Seed Bias on Monotone CFTP\")\n",
    "plt.xlabel(\"Returned value\")\n",
    "plt.ylabel(\"Frequency\")\n",
    "plt.show()"
   ]
  },
  {
   "cell_type": "code",
   "execution_count": null,
   "metadata": {},
   "outputs": [],
   "source": []
  }
 ],
 "metadata": {
  "kernelspec": {
   "display_name": "Python 3",
   "language": "python",
   "name": "python3"
  },
  "language_info": {
   "codemirror_mode": {
    "name": "ipython",
    "version": 3
   },
   "file_extension": ".py",
   "mimetype": "text/x-python",
   "name": "python",
   "nbconvert_exporter": "python",
   "pygments_lexer": "ipython3",
   "version": "3.7.4"
  }
 },
 "nbformat": 4,
 "nbformat_minor": 4
}
